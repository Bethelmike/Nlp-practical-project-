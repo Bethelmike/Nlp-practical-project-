{
  "nbformat": 4,
  "nbformat_minor": 0,
  "metadata": {
    "colab": {
      "provenance": []
    },
    "kernelspec": {
      "name": "python3",
      "display_name": "Python 3"
    },
    "language_info": {
      "name": "python"
    }
  },
  "cells": [
    {
      "cell_type": "code",
      "execution_count": 1,
      "metadata": {
        "colab": {
          "base_uri": "https://localhost:8080/"
        },
        "id": "BBcwP6cEeSzz",
        "outputId": "67267252-513a-4704-8202-8b270d7f92bc"
      },
      "outputs": [
        {
          "output_type": "stream",
          "name": "stdout",
          "text": [
            "Requirement already satisfied: nltk in /usr/local/lib/python3.10/dist-packages (3.8.1)\n",
            "Requirement already satisfied: click in /usr/local/lib/python3.10/dist-packages (from nltk) (8.1.6)\n",
            "Requirement already satisfied: joblib in /usr/local/lib/python3.10/dist-packages (from nltk) (1.3.1)\n",
            "Requirement already satisfied: regex>=2021.8.3 in /usr/local/lib/python3.10/dist-packages (from nltk) (2022.10.31)\n",
            "Requirement already satisfied: tqdm in /usr/local/lib/python3.10/dist-packages (from nltk) (4.65.0)\n"
          ]
        }
      ],
      "source": [
        "!pip install nltk"
      ]
    },
    {
      "cell_type": "code",
      "source": [
        "paragraph= \"\"\"Modi was raised in a small town in northern Gujarat, and he completed an M.A. degree in political science from Gujarat University in Ahmadabad. He joined the pro-Hindu Rashtriya Swayamsevak Sangh (RSS) organization in the early 1970s and set up a unit of the RSS’s students’ wing, the Akhil Bharatiya Vidyarthi Parishad, in his area. Modi rose steadily in the RSS hierarchy, and his association with the organization significantly benefited his subsequent political career.\n",
        "\n",
        "Modi joined the BJP in 1987, and a year later he was made the general secretary of the Gujarat branch of the party. He was instrumental in greatly strengthening the party’s presence in the state in succeeding years. In 1990 Modi was one of the BJP members who participated in a coalition government in the state, and he helped the BJP achieve success in the 1995 state legislative assembly elections that in March allowed the party to form the first-ever BJP-controlled government in India. The BJP’s control of the state government was relatively short-lived, however, ending in September 1996.\n",
        "\"\"\"\n",
        "\n"
      ],
      "metadata": {
        "id": "Tuay6e9YiX6F"
      },
      "execution_count": 2,
      "outputs": []
    },
    {
      "cell_type": "code",
      "source": [
        "paragraph"
      ],
      "metadata": {
        "colab": {
          "base_uri": "https://localhost:8080/",
          "height": 140
        },
        "id": "87CpbpMqjL3_",
        "outputId": "fdbcde27-192c-4619-dd7e-5eea23fbb626"
      },
      "execution_count": 3,
      "outputs": [
        {
          "output_type": "execute_result",
          "data": {
            "text/plain": [
              "'Modi was raised in a small town in northern Gujarat, and he completed an M.A. degree in political science from Gujarat University in Ahmadabad. He joined the pro-Hindu Rashtriya Swayamsevak Sangh (RSS) organization in the early 1970s and set up a unit of the RSS’s students’ wing, the Akhil Bharatiya Vidyarthi Parishad, in his area. Modi rose steadily in the RSS hierarchy, and his association with the organization significantly benefited his subsequent political career.\\n\\nModi joined the BJP in 1987, and a year later he was made the general secretary of the Gujarat branch of the party. He was instrumental in greatly strengthening the party’s presence in the state in succeeding years. In 1990 Modi was one of the BJP members who participated in a coalition government in the state, and he helped the BJP achieve success in the 1995 state legislative assembly elections that in March allowed the party to form the first-ever BJP-controlled government in India. The BJP’s control of the state government was relatively short-lived, however, ending in September 1996.\\n'"
            ],
            "application/vnd.google.colaboratory.intrinsic+json": {
              "type": "string"
            }
          },
          "metadata": {},
          "execution_count": 3
        }
      ]
    },
    {
      "cell_type": "code",
      "source": [
        "import nltk\n",
        "from nltk.stem import PorterStemmer\n",
        "from nltk.corpus import stopwords\n"
      ],
      "metadata": {
        "id": "KkBLXtMTjUH3"
      },
      "execution_count": 4,
      "outputs": []
    },
    {
      "cell_type": "code",
      "source": [
        "## tokenization == converts paragraph to sentence then to words\n",
        "\n",
        "nltk.download(\"punkt\")\n",
        "sentences=nltk.sent_tokenize(paragraph)"
      ],
      "metadata": {
        "colab": {
          "base_uri": "https://localhost:8080/"
        },
        "id": "7BhDaA5vkhDF",
        "outputId": "bb3d617d-4fa2-405a-88e2-86fefdfcd1c4"
      },
      "execution_count": 5,
      "outputs": [
        {
          "output_type": "stream",
          "name": "stderr",
          "text": [
            "[nltk_data] Downloading package punkt to /root/nltk_data...\n",
            "[nltk_data]   Unzipping tokenizers/punkt.zip.\n"
          ]
        }
      ]
    },
    {
      "cell_type": "code",
      "source": [
        "print(sentences)"
      ],
      "metadata": {
        "colab": {
          "base_uri": "https://localhost:8080/"
        },
        "id": "6OsUQEZzmfNQ",
        "outputId": "4c4afd33-8343-4d32-b224-81b7a1ef228c"
      },
      "execution_count": 6,
      "outputs": [
        {
          "output_type": "stream",
          "name": "stdout",
          "text": [
            "['Modi was raised in a small town in northern Gujarat, and he completed an M.A.', 'degree in political science from Gujarat University in Ahmadabad.', 'He joined the pro-Hindu Rashtriya Swayamsevak Sangh (RSS) organization in the early 1970s and set up a unit of the RSS’s students’ wing, the Akhil Bharatiya Vidyarthi Parishad, in his area.', 'Modi rose steadily in the RSS hierarchy, and his association with the organization significantly benefited his subsequent political career.', 'Modi joined the BJP in 1987, and a year later he was made the general secretary of the Gujarat branch of the party.', 'He was instrumental in greatly strengthening the party’s presence in the state in succeeding years.', 'In 1990 Modi was one of the BJP members who participated in a coalition government in the state, and he helped the BJP achieve success in the 1995 state legislative assembly elections that in March allowed the party to form the first-ever BJP-controlled government in India.', 'The BJP’s control of the state government was relatively short-lived, however, ending in September 1996.']\n"
          ]
        }
      ]
    },
    {
      "cell_type": "code",
      "source": [
        "type(sentences)"
      ],
      "metadata": {
        "colab": {
          "base_uri": "https://localhost:8080/"
        },
        "id": "cr6JsHTJnQND",
        "outputId": "e4c146cb-f8a1-461b-f25a-87f2216c7a6a"
      },
      "execution_count": 7,
      "outputs": [
        {
          "output_type": "execute_result",
          "data": {
            "text/plain": [
              "list"
            ]
          },
          "metadata": {},
          "execution_count": 7
        }
      ]
    },
    {
      "cell_type": "code",
      "source": [
        "## stemmer helps to find base root words.\n",
        "## for example\n",
        "\n",
        "stemmer=PorterStemmer()\n",
        "stemmer.stem('history')"
      ],
      "metadata": {
        "colab": {
          "base_uri": "https://localhost:8080/",
          "height": 35
        },
        "id": "teWs4VVqnJtH",
        "outputId": "f8ce8c27-6c16-4497-afaa-cb2b71b9ede8"
      },
      "execution_count": 8,
      "outputs": [
        {
          "output_type": "execute_result",
          "data": {
            "text/plain": [
              "'histori'"
            ],
            "application/vnd.google.colaboratory.intrinsic+json": {
              "type": "string"
            }
          },
          "metadata": {},
          "execution_count": 8
        }
      ]
    },
    {
      "cell_type": "code",
      "source": [
        "from nltk.stem import WordNetLemmatizer"
      ],
      "metadata": {
        "id": "4Z5zPR_-o__q"
      },
      "execution_count": 9,
      "outputs": []
    },
    {
      "cell_type": "code",
      "source": [
        "lemmatizer=WordNetLemmatizer()"
      ],
      "metadata": {
        "id": "iEp9GhwSq7pi"
      },
      "execution_count": 10,
      "outputs": []
    },
    {
      "cell_type": "code",
      "source": [
        "nltk.download('wordnet')\n"
      ],
      "metadata": {
        "colab": {
          "base_uri": "https://localhost:8080/"
        },
        "id": "fXXviHdAsO7Z",
        "outputId": "1ceb2266-047d-4fc9-d4af-9f90d82a336e"
      },
      "execution_count": 11,
      "outputs": [
        {
          "output_type": "stream",
          "name": "stderr",
          "text": [
            "[nltk_data] Downloading package wordnet to /root/nltk_data...\n"
          ]
        },
        {
          "output_type": "execute_result",
          "data": {
            "text/plain": [
              "True"
            ]
          },
          "metadata": {},
          "execution_count": 11
        }
      ]
    },
    {
      "cell_type": "code",
      "source": [
        "lemmatizer.lemmatize('goes')"
      ],
      "metadata": {
        "colab": {
          "base_uri": "https://localhost:8080/",
          "height": 35
        },
        "id": "4O2Kb4xRsblo",
        "outputId": "c9e601bd-5efe-46ce-d948-2e85625fd46b"
      },
      "execution_count": 12,
      "outputs": [
        {
          "output_type": "execute_result",
          "data": {
            "text/plain": [
              "'go'"
            ],
            "application/vnd.google.colaboratory.intrinsic+json": {
              "type": "string"
            }
          },
          "metadata": {},
          "execution_count": 12
        }
      ]
    },
    {
      "cell_type": "code",
      "source": [
        "len(sentences)"
      ],
      "metadata": {
        "id": "7IuVdyRGt3qJ",
        "outputId": "f16bbdcb-3125-49e8-e6ee-5f376b90cf03",
        "colab": {
          "base_uri": "https://localhost:8080/"
        }
      },
      "execution_count": 13,
      "outputs": [
        {
          "output_type": "execute_result",
          "data": {
            "text/plain": [
              "8"
            ]
          },
          "metadata": {},
          "execution_count": 13
        }
      ]
    },
    {
      "cell_type": "code",
      "source": [
        "import re"
      ],
      "metadata": {
        "id": "sqzgJmRat-UN"
      },
      "execution_count": 14,
      "outputs": []
    },
    {
      "cell_type": "code",
      "source": [
        "corpus=[]\n",
        "for i in range(len(sentences)):\n",
        "    review=re.sub('[^a-zA-Z]',' ',sentences[i])\n",
        "    review= review.lower()\n",
        "    corpus.append(review)"
      ],
      "metadata": {
        "id": "Lo9aRLTmuL9b"
      },
      "execution_count": 15,
      "outputs": []
    },
    {
      "cell_type": "code",
      "source": [
        "corpus"
      ],
      "metadata": {
        "id": "cJ2su_Tiv6LR",
        "outputId": "451896c1-18bf-4220-d4d2-3c0a356029ba",
        "colab": {
          "base_uri": "https://localhost:8080/"
        }
      },
      "execution_count": 16,
      "outputs": [
        {
          "output_type": "execute_result",
          "data": {
            "text/plain": [
              "['modi was raised in a small town in northern gujarat  and he completed an m a ',\n",
              " 'degree in political science from gujarat university in ahmadabad ',\n",
              " 'he joined the pro hindu rashtriya swayamsevak sangh  rss  organization in the early     s and set up a unit of the rss s students  wing  the akhil bharatiya vidyarthi parishad  in his area ',\n",
              " 'modi rose steadily in the rss hierarchy  and his association with the organization significantly benefited his subsequent political career ',\n",
              " 'modi joined the bjp in       and a year later he was made the general secretary of the gujarat branch of the party ',\n",
              " 'he was instrumental in greatly strengthening the party s presence in the state in succeeding years ',\n",
              " 'in      modi was one of the bjp members who participated in a coalition government in the state  and he helped the bjp achieve success in the      state legislative assembly elections that in march allowed the party to form the first ever bjp controlled government in india ',\n",
              " 'the bjp s control of the state government was relatively short lived  however  ending in september      ']"
            ]
          },
          "metadata": {},
          "execution_count": 16
        }
      ]
    },
    {
      "cell_type": "code",
      "source": [
        "# stemming\n",
        "nltk.download('stopwords')\n",
        "for i in corpus:\n",
        "    words= nltk.word_tokenize(i)\n",
        "    for word in words:\n",
        "        if word not in set(stopwords.words('english')):\n",
        "           print(stemmer.stem(word))"
      ],
      "metadata": {
        "id": "H0pIEQC7wHKk",
        "outputId": "cb13eb6d-9064-4055-837e-200591807b4d",
        "colab": {
          "base_uri": "https://localhost:8080/"
        }
      },
      "execution_count": 17,
      "outputs": [
        {
          "output_type": "stream",
          "name": "stderr",
          "text": [
            "[nltk_data] Downloading package stopwords to /root/nltk_data...\n",
            "[nltk_data]   Unzipping corpora/stopwords.zip.\n"
          ]
        },
        {
          "output_type": "stream",
          "name": "stdout",
          "text": [
            "modi\n",
            "rais\n",
            "small\n",
            "town\n",
            "northern\n",
            "gujarat\n",
            "complet\n",
            "degre\n",
            "polit\n",
            "scienc\n",
            "gujarat\n",
            "univers\n",
            "ahmadabad\n",
            "join\n",
            "pro\n",
            "hindu\n",
            "rashtriya\n",
            "swayamsevak\n",
            "sangh\n",
            "rss\n",
            "organ\n",
            "earli\n",
            "set\n",
            "unit\n",
            "rss\n",
            "student\n",
            "wing\n",
            "akhil\n",
            "bharatiya\n",
            "vidyarthi\n",
            "parishad\n",
            "area\n",
            "modi\n",
            "rose\n",
            "steadili\n",
            "rss\n",
            "hierarchi\n",
            "associ\n",
            "organ\n",
            "significantli\n",
            "benefit\n",
            "subsequ\n",
            "polit\n",
            "career\n",
            "modi\n",
            "join\n",
            "bjp\n",
            "year\n",
            "later\n",
            "made\n",
            "gener\n",
            "secretari\n",
            "gujarat\n",
            "branch\n",
            "parti\n",
            "instrument\n",
            "greatli\n",
            "strengthen\n",
            "parti\n",
            "presenc\n",
            "state\n",
            "succeed\n",
            "year\n",
            "modi\n",
            "one\n",
            "bjp\n",
            "member\n",
            "particip\n",
            "coalit\n",
            "govern\n",
            "state\n",
            "help\n",
            "bjp\n",
            "achiev\n",
            "success\n",
            "state\n",
            "legisl\n",
            "assembl\n",
            "elect\n",
            "march\n",
            "allow\n",
            "parti\n",
            "form\n",
            "first\n",
            "ever\n",
            "bjp\n",
            "control\n",
            "govern\n",
            "india\n",
            "bjp\n",
            "control\n",
            "state\n",
            "govern\n",
            "rel\n",
            "short\n",
            "live\n",
            "howev\n",
            "end\n",
            "septemb\n"
          ]
        }
      ]
    },
    {
      "cell_type": "code",
      "source": [
        "stopwords.words('english')"
      ],
      "metadata": {
        "id": "vH6dJPl_w6yC",
        "outputId": "93524b33-4e97-4e32-81a9-411a039bf5de",
        "colab": {
          "base_uri": "https://localhost:8080/"
        }
      },
      "execution_count": 18,
      "outputs": [
        {
          "output_type": "execute_result",
          "data": {
            "text/plain": [
              "['i',\n",
              " 'me',\n",
              " 'my',\n",
              " 'myself',\n",
              " 'we',\n",
              " 'our',\n",
              " 'ours',\n",
              " 'ourselves',\n",
              " 'you',\n",
              " \"you're\",\n",
              " \"you've\",\n",
              " \"you'll\",\n",
              " \"you'd\",\n",
              " 'your',\n",
              " 'yours',\n",
              " 'yourself',\n",
              " 'yourselves',\n",
              " 'he',\n",
              " 'him',\n",
              " 'his',\n",
              " 'himself',\n",
              " 'she',\n",
              " \"she's\",\n",
              " 'her',\n",
              " 'hers',\n",
              " 'herself',\n",
              " 'it',\n",
              " \"it's\",\n",
              " 'its',\n",
              " 'itself',\n",
              " 'they',\n",
              " 'them',\n",
              " 'their',\n",
              " 'theirs',\n",
              " 'themselves',\n",
              " 'what',\n",
              " 'which',\n",
              " 'who',\n",
              " 'whom',\n",
              " 'this',\n",
              " 'that',\n",
              " \"that'll\",\n",
              " 'these',\n",
              " 'those',\n",
              " 'am',\n",
              " 'is',\n",
              " 'are',\n",
              " 'was',\n",
              " 'were',\n",
              " 'be',\n",
              " 'been',\n",
              " 'being',\n",
              " 'have',\n",
              " 'has',\n",
              " 'had',\n",
              " 'having',\n",
              " 'do',\n",
              " 'does',\n",
              " 'did',\n",
              " 'doing',\n",
              " 'a',\n",
              " 'an',\n",
              " 'the',\n",
              " 'and',\n",
              " 'but',\n",
              " 'if',\n",
              " 'or',\n",
              " 'because',\n",
              " 'as',\n",
              " 'until',\n",
              " 'while',\n",
              " 'of',\n",
              " 'at',\n",
              " 'by',\n",
              " 'for',\n",
              " 'with',\n",
              " 'about',\n",
              " 'against',\n",
              " 'between',\n",
              " 'into',\n",
              " 'through',\n",
              " 'during',\n",
              " 'before',\n",
              " 'after',\n",
              " 'above',\n",
              " 'below',\n",
              " 'to',\n",
              " 'from',\n",
              " 'up',\n",
              " 'down',\n",
              " 'in',\n",
              " 'out',\n",
              " 'on',\n",
              " 'off',\n",
              " 'over',\n",
              " 'under',\n",
              " 'again',\n",
              " 'further',\n",
              " 'then',\n",
              " 'once',\n",
              " 'here',\n",
              " 'there',\n",
              " 'when',\n",
              " 'where',\n",
              " 'why',\n",
              " 'how',\n",
              " 'all',\n",
              " 'any',\n",
              " 'both',\n",
              " 'each',\n",
              " 'few',\n",
              " 'more',\n",
              " 'most',\n",
              " 'other',\n",
              " 'some',\n",
              " 'such',\n",
              " 'no',\n",
              " 'nor',\n",
              " 'not',\n",
              " 'only',\n",
              " 'own',\n",
              " 'same',\n",
              " 'so',\n",
              " 'than',\n",
              " 'too',\n",
              " 'very',\n",
              " 's',\n",
              " 't',\n",
              " 'can',\n",
              " 'will',\n",
              " 'just',\n",
              " 'don',\n",
              " \"don't\",\n",
              " 'should',\n",
              " \"should've\",\n",
              " 'now',\n",
              " 'd',\n",
              " 'll',\n",
              " 'm',\n",
              " 'o',\n",
              " 're',\n",
              " 've',\n",
              " 'y',\n",
              " 'ain',\n",
              " 'aren',\n",
              " \"aren't\",\n",
              " 'couldn',\n",
              " \"couldn't\",\n",
              " 'didn',\n",
              " \"didn't\",\n",
              " 'doesn',\n",
              " \"doesn't\",\n",
              " 'hadn',\n",
              " \"hadn't\",\n",
              " 'hasn',\n",
              " \"hasn't\",\n",
              " 'haven',\n",
              " \"haven't\",\n",
              " 'isn',\n",
              " \"isn't\",\n",
              " 'ma',\n",
              " 'mightn',\n",
              " \"mightn't\",\n",
              " 'mustn',\n",
              " \"mustn't\",\n",
              " 'needn',\n",
              " \"needn't\",\n",
              " 'shan',\n",
              " \"shan't\",\n",
              " 'shouldn',\n",
              " \"shouldn't\",\n",
              " 'wasn',\n",
              " \"wasn't\",\n",
              " 'weren',\n",
              " \"weren't\",\n",
              " 'won',\n",
              " \"won't\",\n",
              " 'wouldn',\n",
              " \"wouldn't\"]"
            ]
          },
          "metadata": {},
          "execution_count": 18
        }
      ]
    },
    {
      "cell_type": "code",
      "source": [
        "##lemmatization\n",
        "for i in corpus:\n",
        "    words= nltk.word_tokenize(i)\n",
        "    for word in words:\n",
        "        if word not in set(stopwords.words('english')):\n",
        "           print(lemmatizer.lemmatize(word))"
      ],
      "metadata": {
        "id": "Y8UIvwqrzsD8",
        "outputId": "3023d960-51f9-4727-8017-62926ef0fb5e",
        "colab": {
          "base_uri": "https://localhost:8080/"
        }
      },
      "execution_count": 19,
      "outputs": [
        {
          "output_type": "stream",
          "name": "stdout",
          "text": [
            "modi\n",
            "raised\n",
            "small\n",
            "town\n",
            "northern\n",
            "gujarat\n",
            "completed\n",
            "degree\n",
            "political\n",
            "science\n",
            "gujarat\n",
            "university\n",
            "ahmadabad\n",
            "joined\n",
            "pro\n",
            "hindu\n",
            "rashtriya\n",
            "swayamsevak\n",
            "sangh\n",
            "r\n",
            "organization\n",
            "early\n",
            "set\n",
            "unit\n",
            "r\n",
            "student\n",
            "wing\n",
            "akhil\n",
            "bharatiya\n",
            "vidyarthi\n",
            "parishad\n",
            "area\n",
            "modi\n",
            "rose\n",
            "steadily\n",
            "r\n",
            "hierarchy\n",
            "association\n",
            "organization\n",
            "significantly\n",
            "benefited\n",
            "subsequent\n",
            "political\n",
            "career\n",
            "modi\n",
            "joined\n",
            "bjp\n",
            "year\n",
            "later\n",
            "made\n",
            "general\n",
            "secretary\n",
            "gujarat\n",
            "branch\n",
            "party\n",
            "instrumental\n",
            "greatly\n",
            "strengthening\n",
            "party\n",
            "presence\n",
            "state\n",
            "succeeding\n",
            "year\n",
            "modi\n",
            "one\n",
            "bjp\n",
            "member\n",
            "participated\n",
            "coalition\n",
            "government\n",
            "state\n",
            "helped\n",
            "bjp\n",
            "achieve\n",
            "success\n",
            "state\n",
            "legislative\n",
            "assembly\n",
            "election\n",
            "march\n",
            "allowed\n",
            "party\n",
            "form\n",
            "first\n",
            "ever\n",
            "bjp\n",
            "controlled\n",
            "government\n",
            "india\n",
            "bjp\n",
            "control\n",
            "state\n",
            "government\n",
            "relatively\n",
            "short\n",
            "lived\n",
            "however\n",
            "ending\n",
            "september\n"
          ]
        }
      ]
    },
    {
      "cell_type": "code",
      "source": [
        "corpus=[]\n",
        "for i in range(len(sentences)):\n",
        "    review=re.sub('[^a-zA-Z]',' ',sentences[i])\n",
        "    review= review.lower()\n",
        "    review= review.split()\n",
        "    review= [lemmatizer.lemmatize(word)for word in review if not  word in set(stopwords.words('english'))]\n",
        "    review= ' '.join(review)\n",
        "    corpus.append(review)"
      ],
      "metadata": {
        "id": "WZc455Xt6ILU"
      },
      "execution_count": 20,
      "outputs": []
    },
    {
      "cell_type": "code",
      "source": [
        "##Bag of words\n",
        "from sklearn.feature_extraction.text import CountVectorizer\n",
        "cv=CountVectorizer(binary=True,ngram_range=(3,3))"
      ],
      "metadata": {
        "id": "AylCJdX10j-R"
      },
      "execution_count": 30,
      "outputs": []
    },
    {
      "cell_type": "code",
      "source": [
        "x=cv.fit_transform(corpus)\n"
      ],
      "metadata": {
        "id": "0VkDrqFX1P_h"
      },
      "execution_count": 31,
      "outputs": []
    },
    {
      "cell_type": "code",
      "source": [
        "cv.vocabulary_"
      ],
      "metadata": {
        "id": "tLs14-o_1pjO",
        "outputId": "165ab733-249a-4c61-dc31-6795f60dee8d",
        "colab": {
          "base_uri": "https://localhost:8080/"
        }
      },
      "execution_count": 32,
      "outputs": [
        {
          "output_type": "execute_result",
          "data": {
            "text/plain": [
              "{'modi raised small': 42,\n",
              " 'raised small town': 54,\n",
              " 'small town northern': 64,\n",
              " 'town northern gujarat': 75,\n",
              " 'northern gujarat completed': 44,\n",
              " 'degree political science': 15,\n",
              " 'political science gujarat': 51,\n",
              " 'science gujarat university': 59,\n",
              " 'gujarat university ahmadabad': 26,\n",
              " 'joined pro hindu': 33,\n",
              " 'pro hindu rashtriya': 53,\n",
              " 'hindu rashtriya swayamsevak': 29,\n",
              " 'rashtriya swayamsevak sangh': 55,\n",
              " 'swayamsevak sangh organization': 74,\n",
              " 'sangh organization early': 58,\n",
              " 'organization early set': 46,\n",
              " 'early set unit': 16,\n",
              " 'set unit student': 61,\n",
              " 'unit student wing': 76,\n",
              " 'student wing akhil': 71,\n",
              " 'wing akhil bharatiya': 78,\n",
              " 'akhil bharatiya vidyarthi': 1,\n",
              " 'bharatiya vidyarthi parishad': 6,\n",
              " 'vidyarthi parishad area': 77,\n",
              " 'modi rose steadily': 43,\n",
              " 'rose steadily hierarchy': 57,\n",
              " 'steadily hierarchy association': 69,\n",
              " 'hierarchy association organization': 28,\n",
              " 'association organization significantly': 4,\n",
              " 'organization significantly benefited': 47,\n",
              " 'significantly benefited subsequent': 63,\n",
              " 'benefited subsequent political': 5,\n",
              " 'subsequent political career': 72,\n",
              " 'modi joined bjp': 40,\n",
              " 'joined bjp year': 32,\n",
              " 'bjp year later': 11,\n",
              " 'year later made': 79,\n",
              " 'later made general': 34,\n",
              " 'made general secretary': 37,\n",
              " 'general secretary gujarat': 21,\n",
              " 'secretary gujarat branch': 60,\n",
              " 'gujarat branch party': 25,\n",
              " 'instrumental greatly strengthening': 31,\n",
              " 'greatly strengthening party': 24,\n",
              " 'strengthening party presence': 70,\n",
              " 'party presence state': 50,\n",
              " 'presence state succeeding': 52,\n",
              " 'state succeeding year': 68,\n",
              " 'modi one bjp': 41,\n",
              " 'one bjp member': 45,\n",
              " 'bjp member participated': 10,\n",
              " 'member participated coalition': 39,\n",
              " 'participated coalition government': 48,\n",
              " 'coalition government state': 12,\n",
              " 'government state helped': 23,\n",
              " 'state helped bjp': 66,\n",
              " 'helped bjp achieve': 27,\n",
              " 'bjp achieve success': 7,\n",
              " 'achieve success state': 0,\n",
              " 'success state legislative': 73,\n",
              " 'state legislative assembly': 67,\n",
              " 'legislative assembly election': 35,\n",
              " 'assembly election march': 3,\n",
              " 'election march allowed': 17,\n",
              " 'march allowed party': 38,\n",
              " 'allowed party form': 2,\n",
              " 'party form first': 49,\n",
              " 'form first ever': 20,\n",
              " 'first ever bjp': 19,\n",
              " 'ever bjp controlled': 18,\n",
              " 'bjp controlled government': 9,\n",
              " 'controlled government india': 14,\n",
              " 'bjp control state': 8,\n",
              " 'control state government': 13,\n",
              " 'state government relatively': 65,\n",
              " 'government relatively short': 22,\n",
              " 'relatively short lived': 56,\n",
              " 'short lived however': 62,\n",
              " 'lived however ending': 36,\n",
              " 'however ending september': 30}"
            ]
          },
          "metadata": {},
          "execution_count": 32
        }
      ]
    },
    {
      "cell_type": "code",
      "source": [
        "corpus[2]"
      ],
      "metadata": {
        "id": "8MKNon4e1suR",
        "outputId": "9b2bef9b-0b21-441f-fe88-71c4cc9926f4",
        "colab": {
          "base_uri": "https://localhost:8080/",
          "height": 35
        }
      },
      "execution_count": 33,
      "outputs": [
        {
          "output_type": "execute_result",
          "data": {
            "text/plain": [
              "'joined pro hindu rashtriya swayamsevak sangh r organization early set unit r student wing akhil bharatiya vidyarthi parishad area'"
            ],
            "application/vnd.google.colaboratory.intrinsic+json": {
              "type": "string"
            }
          },
          "metadata": {},
          "execution_count": 33
        }
      ]
    },
    {
      "cell_type": "code",
      "source": [
        "x[2].toarray()"
      ],
      "metadata": {
        "id": "7ZrMw1J82Wm7",
        "outputId": "1df3ae23-d932-477e-a77d-ab16616f00e1",
        "colab": {
          "base_uri": "https://localhost:8080/"
        }
      },
      "execution_count": 34,
      "outputs": [
        {
          "output_type": "execute_result",
          "data": {
            "text/plain": [
              "array([[0, 1, 0, 0, 0, 0, 1, 0, 0, 0, 0, 0, 0, 0, 0, 0, 1, 0, 0, 0, 0, 0,\n",
              "        0, 0, 0, 0, 0, 0, 0, 1, 0, 0, 0, 1, 0, 0, 0, 0, 0, 0, 0, 0, 0, 0,\n",
              "        0, 0, 1, 0, 0, 0, 0, 0, 0, 1, 0, 1, 0, 0, 1, 0, 0, 1, 0, 0, 0, 0,\n",
              "        0, 0, 0, 0, 0, 1, 0, 0, 1, 0, 1, 1, 1, 0]])"
            ]
          },
          "metadata": {},
          "execution_count": 34
        }
      ]
    },
    {
      "cell_type": "code",
      "source": [
        "##TFIDF(you can also apply ngram_range and max_features to tdif)\n",
        "from sklearn.feature_extraction.text import TfidfVectorizer\n",
        "cv=TfidfVectorizer()\n",
        "X=cv.fit_transform(corpus)"
      ],
      "metadata": {
        "id": "4JiKEi-tmX9s"
      },
      "execution_count": 35,
      "outputs": []
    },
    {
      "cell_type": "code",
      "source": [
        "corpus[0]"
      ],
      "metadata": {
        "colab": {
          "base_uri": "https://localhost:8080/",
          "height": 35
        },
        "id": "jHdfvYp7nNTd",
        "outputId": "2455b724-52e7-41e0-bc63-4fada20cbc69"
      },
      "execution_count": 36,
      "outputs": [
        {
          "output_type": "execute_result",
          "data": {
            "text/plain": [
              "'modi raised small town northern gujarat completed'"
            ],
            "application/vnd.google.colaboratory.intrinsic+json": {
              "type": "string"
            }
          },
          "metadata": {},
          "execution_count": 36
        }
      ]
    },
    {
      "cell_type": "code",
      "source": [
        "x[0].toarray()"
      ],
      "metadata": {
        "colab": {
          "base_uri": "https://localhost:8080/"
        },
        "id": "4EBS0ay2nRPB",
        "outputId": "bd334924-9d82-4163-bf81-d9374b3a6e8c"
      },
      "execution_count": 29,
      "outputs": [
        {
          "output_type": "execute_result",
          "data": {
            "text/plain": [
              "array([[0, 0, 0, 0, 0, 0, 0, 0, 0, 0, 0, 0, 0, 1, 0, 0, 0, 0, 0, 0, 0, 0,\n",
              "        0, 0, 0, 0, 1, 0, 0, 0, 0, 0, 0, 0, 0, 0, 0, 0, 0, 0, 1, 1, 0, 0,\n",
              "        0, 0, 0, 0, 0, 0, 1, 0, 0, 0, 0, 0, 0, 0, 0, 0, 0, 1, 0, 0, 0, 0,\n",
              "        0, 0, 0, 0, 1, 0, 0, 0, 0, 0]])"
            ]
          },
          "metadata": {},
          "execution_count": 29
        }
      ]
    },
    {
      "cell_type": "code",
      "source": [],
      "metadata": {
        "id": "lfkediiQnhBN"
      },
      "execution_count": null,
      "outputs": []
    }
  ]
}